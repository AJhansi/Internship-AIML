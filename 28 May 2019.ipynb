{
 "cells": [
  {
   "cell_type": "markdown",
   "metadata": {},
   "source": [
    "# Day 2\n",
    "## May 28\n"
   ]
  },
  {
   "cell_type": "markdown",
   "metadata": {},
   "source": [
    "## Problem 1\n",
    "## problem statement\n",
    "Compute the total number of unique apps from the dataset\n"
   ]
  },
  {
   "cell_type": "code",
   "execution_count": null,
   "metadata": {},
   "outputs": [],
   "source": []
  },
  {
   "cell_type": "code",
   "execution_count": 3,
   "metadata": {},
   "outputs": [
    {
     "name": "stdout",
     "output_type": "stream",
     "text": [
      "7195\n"
     ]
    }
   ],
   "source": [
    "import pandas as pd\n",
    "import numpy as np\n",
    "def unique (filename):\n",
    "    df = pd.read_csv(filename)\n",
    "    data = list(df['track_name'].values)\n",
    "    unique_data=[]\n",
    "    unique_data=np.unique(data)\n",
    "    print(len(unique_data))\n",
    "    \n",
    "unique('Datafiles/AppleStore.csv')"
   ]
  },
  {
   "cell_type": "code",
   "execution_count": null,
   "metadata": {},
   "outputs": [],
   "source": []
  },
  {
   "cell_type": "markdown",
   "metadata": {},
   "source": [
    "## Problem 2\n",
    "## problem statement:\n",
    "Print the Top 10 apps along with their rating based on the number of downloads(rating_count_tot)\n"
   ]
  },
  {
   "cell_type": "code",
   "execution_count": 9,
   "metadata": {},
   "outputs": [
    {
     "name": "stdout",
     "output_type": "stream",
     "text": [
      "top 10 apps are ['Facebook', 'Instagram', 'Clash of Clans', 'Temple Run', 'Pandora - Music & Radio', 'Pinterest', 'Bible', 'Candy Crush Saga', 'Spotify Music', 'Angry Birds']\n"
     ]
    }
   ],
   "source": [
    "def generateappreport(filename):\n",
    "    app,downloads,required,top=[],[],[],[]\n",
    "    df=pd.read_csv(filename)\n",
    "    for i in df.values:\n",
    "        app.append(i[2])\n",
    "    for i in range(0,len(app)):\n",
    "        downloads.append(df.iat[i,6])\n",
    "    index=np.argsort(downloads)\n",
    "    for i in index:\n",
    "        required.append(df.iat[i,2])\n",
    "    top=required[len(required)-1:len(required)-11:-1]\n",
    "    print(\"top 10 apps are\",top)\n",
    "\n",
    "generateappreport('Datafiles/AppleStore.csv')"
   ]
  },
  {
   "cell_type": "code",
   "execution_count": null,
   "metadata": {},
   "outputs": [],
   "source": []
  },
  {
   "cell_type": "markdown",
   "metadata": {},
   "source": [
    "## Problem 3\n",
    "## problem statement:\n",
    "* Categorise the dataset based on content rating into the following\n",
    "* Number of apps with content rating 4+\n",
    "* Number of apps with content rating 9+\n",
    "* Number of apps with content rating 12+\n",
    "* Number of apps with content rating 17+\n",
    "\n"
   ]
  },
  {
   "cell_type": "code",
   "execution_count": 8,
   "metadata": {},
   "outputs": [
    {
     "name": "stdout",
     "output_type": "stream",
     "text": [
      "no. of apps with rating 4+ 4433\n",
      "no. of apps with rating 9+ 987\n",
      "no. of apps with rating 12+ 1155\n",
      "no. of apps with rating 17+ 622\n"
     ]
    }
   ],
   "source": [
    "\n",
    "def generateappreport(filename):\n",
    "    content,rating1,rating2,rating3,rating4 = [],[],[],[],[]\n",
    "    df=pd.read_csv(filename)\n",
    "    for i in df.values:\n",
    "        content.append(i[12])\n",
    "    \n",
    "    for i in range(0,len(content)):\n",
    "        if(df.iat[i,12]=='4+'):\n",
    "            rating1.append(df.iat[i,2])\n",
    "            \n",
    "        elif(df.iat[i,12]=='9+'):\n",
    "            rating2.append(df.iat[i,2])\n",
    "            \n",
    "        elif(df.iat[i,12]=='12+'):\n",
    "            rating3.append(df.iat[i,2])\n",
    "            \n",
    "        elif(df.iat[i,12]=='17+'):\n",
    "            rating4.append(df.iat[i,2])\n",
    "            \n",
    "    print(\"no. of apps with rating 4+\",len(rating1))\n",
    "    print(\"no. of apps with rating 9+\",len(rating2))\n",
    "    print(\"no. of apps with rating 12+\",len(rating3))\n",
    "    print(\"no. of apps with rating 17+\",len(rating4))\n",
    "generateappreport('Datafiles/AppleStore.csv')"
   ]
  },
  {
   "cell_type": "code",
   "execution_count": null,
   "metadata": {},
   "outputs": [],
   "source": []
  }
 ],
 "metadata": {
  "kernelspec": {
   "display_name": "Python 3",
   "language": "python",
   "name": "python3"
  },
  "language_info": {
   "codemirror_mode": {
    "name": "ipython",
    "version": 3
   },
   "file_extension": ".py",
   "mimetype": "text/x-python",
   "name": "python",
   "nbconvert_exporter": "python",
   "pygments_lexer": "ipython3",
   "version": "3.7.3"
  }
 },
 "nbformat": 4,
 "nbformat_minor": 2
}
